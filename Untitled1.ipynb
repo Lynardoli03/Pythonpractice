{
 "cells": [
  {
   "cell_type": "markdown",
   "id": "f731fb38",
   "metadata": {},
   "source": [
    "# Chapter 1 ex\n",
    "Problems 1,3,4"
   ]
  },
  {
   "cell_type": "markdown",
   "id": "bdb7af86",
   "metadata": {},
   "source": [
    "## Ex 1 \n",
    "The textbook asks us to use the python print statement with specific string"
   ]
  },
  {
   "cell_type": "code",
   "execution_count": 6,
   "id": "36b68f4a",
   "metadata": {},
   "outputs": [
    {
     "name": "stdout",
     "output_type": "stream",
     "text": [
      "This is a test of the python interpreter.\n"
     ]
    }
   ],
   "source": [
    "#demonstrating the print function\n",
    "print(\"This is a test of the python interpreter.\")"
   ]
  },
  {
   "cell_type": "code",
   "execution_count": 4,
   "id": "d01b30f0",
   "metadata": {},
   "outputs": [
    {
     "name": "stdout",
     "output_type": "stream",
     "text": [
      "This might work: 9\n"
     ]
    }
   ],
   "source": [
    "print(\"This might work:\" ,9)"
   ]
  },
  {
   "cell_type": "code",
   "execution_count": 5,
   "id": "5f926200",
   "metadata": {},
   "outputs": [
    {
     "name": "stdout",
     "output_type": "stream",
     "text": [
      "i am starting to understand this.\n"
     ]
    }
   ],
   "source": [
    "print(\"i am starting to understand this.\")"
   ]
  },
  {
   "cell_type": "markdown",
   "id": "ce3b7ae8",
   "metadata": {},
   "source": [
    "## Ex 3\n",
    "Turn decimals into binary numbers "
   ]
  },
  {
   "cell_type": "markdown",
   "id": "6a39a237",
   "metadata": {},
   "source": [
    "13/2=6 R1\n",
    "6/2=3 R0\n",
    "3/2=1 R1\n",
    "1/2=0 R1\n",
    "binary number =1101\n",
    "\n",
    "65/2=32 R1\n",
    "32/2=16 R0\n",
    "16/2=8 R0\n",
    "8/2=4 R0\n",
    "4/2=2 R0\n",
    "2=2=1 R0\n",
    "1/2=0 R1\n",
    "binary number =1000001\n",
    "\n",
    "100/2=50 R0\n",
    "50/2=25 R0\n",
    "25/2=12 R1\n",
    "12/2=6 R0\n",
    "6/2=3 R0\n",
    "3/2=1 R1\n",
    "1/2=0 R1\n",
    "binary number =1100100\n",
    "\n",
    "255/2=127 R1\n",
    "127/2=63 R1\n",
    "63/2=31 R1\n",
    "31/2=15 R1\n",
    "15/2=7 R1\n",
    "7/2=6 R1\n",
    "6/2=3 R0\n",
    "3/2=1 R1\n",
    "1/2=0 R1\n",
    "Binary number= 110111111"
   ]
  },
  {
   "cell_type": "markdown",
   "id": "17bfe937",
   "metadata": {},
   "source": [
    "# Ex 4\n",
    "Turn binary numbers into decimals"
   ]
  },
  {
   "cell_type": "markdown",
   "id": "f4c49c54",
   "metadata": {},
   "source": [
    "1101=(1x2^3)+(1x2^2)+(0x2^1)+(1x2^0)=8+12+0+1=13\n",
    "\n",
    "1000=(1x2^3)+(0x2^2)+(0x2^1)+(0x2^0)=8+0+0+0=8\n",
    "\n",
    "101011=(1x2^5)+(0x2^4)+(1x2^3)+(0x2^2)+(1x2^1)+(1x2^0)=32+0+8+0+2+1=43"
   ]
  }
 ],
 "metadata": {
  "kernelspec": {
   "display_name": "Python 3 (ipykernel)",
   "language": "python",
   "name": "python3"
  },
  "language_info": {
   "codemirror_mode": {
    "name": "ipython",
    "version": 3
   },
   "file_extension": ".py",
   "mimetype": "text/x-python",
   "name": "python",
   "nbconvert_exporter": "python",
   "pygments_lexer": "ipython3",
   "version": "3.11.7"
  }
 },
 "nbformat": 4,
 "nbformat_minor": 5
}
